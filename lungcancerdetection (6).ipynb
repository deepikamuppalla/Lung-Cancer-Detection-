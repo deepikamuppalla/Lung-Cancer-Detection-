{
 "cells": [
  {
   "cell_type": "code",
   "execution_count": 14,
   "id": "5c00e912",
   "metadata": {},
   "outputs": [],
   "source": [
    "import os \n",
    "import tensorflow as tf \n",
    "import numpy as np\n",
    "import matplotlib.pyplot as plt"
   ]
  },
  {
   "cell_type": "code",
   "execution_count": 15,
   "id": "0fb238c0",
   "metadata": {},
   "outputs": [],
   "source": [
    "train_dir = \"C:/Users/THARUN/Downloads/lung/chest_xray/train\"\n",
    "test_dir = \"C:/Users/THARUN/Downloads/lung/chest_xray/test\"\n",
    "val_dir = \"C:/Users/THARUN/Downloads/lung/chest_xray/val\""
   ]
  },
  {
   "cell_type": "code",
   "execution_count": 16,
   "id": "4464325e",
   "metadata": {},
   "outputs": [
    {
     "name": "stdout",
     "output_type": "stream",
     "text": [
      "Found 5216 images belonging to 2 classes.\n",
      "Found 624 images belonging to 2 classes.\n",
      "Found 16 images belonging to 2 classes.\n"
     ]
    }
   ],
   "source": [
    "ig = tf.keras.preprocessing.image.ImageDataGenerator()\n",
    "train_ig = ig.flow_from_directory(train_dir,class_mode = \"binary\")\n",
    "test_ig = ig.flow_from_directory(test_dir,class_mode = \"binary\")\n",
    "val_ig = ig.flow_from_directory(val_dir,class_mode = \"binary\")"
   ]
  },
  {
   "cell_type": "code",
   "execution_count": 17,
   "id": "d4c732d6",
   "metadata": {},
   "outputs": [],
   "source": [
    "model = tf.keras.Sequential([\n",
    "    tf.keras.layers.Conv2D(128,(3,3),input_shape=(256,256,3),activation = tf.nn.relu),\n",
    "    tf.keras.layers.MaxPooling2D(),\n",
    "    tf.keras.layers.Conv2D(64,(3,3),activation = tf.nn.relu),\n",
    "    tf.keras.layers.MaxPooling2D(),\n",
    "    tf.keras.layers.Conv2D(32,(3,3),activation = tf.nn.relu),\n",
    "    tf.keras.layers.MaxPooling2D(),\n",
    "    tf.keras.layers.Flatten(),\n",
    "    tf.keras.layers.Dense(256,activation = tf.nn.relu),\n",
    "    tf.keras.layers.Dense(128,activation = tf.nn.relu),\n",
    "    tf.keras.layers.Dense(64,activation = tf.nn.relu),\n",
    "    tf.keras.layers.Dense(32,activation = tf.nn.relu),\n",
    "    tf.keras.layers.Dense(1,activation = tf.nn.sigmoid)\n",
    "])"
   ]
  },
  {
   "cell_type": "code",
   "execution_count": 18,
   "id": "18471972",
   "metadata": {},
   "outputs": [],
   "source": [
    "model.compile(optimizer=\"Adam\",\n",
    "             loss = \"binary_crossentropy\",\n",
    "             metrics = \"accuracy\")"
   ]
  },
  {
   "cell_type": "code",
   "execution_count": 19,
   "id": "08406058",
   "metadata": {},
   "outputs": [
    {
     "name": "stdout",
     "output_type": "stream",
     "text": [
      "Epoch 1/5\n",
      "163/163 [==============================] - 499s 3s/step - loss: 1.1718 - accuracy: 0.8368\n",
      "Epoch 2/5\n",
      "163/163 [==============================] - 524s 3s/step - loss: 0.1689 - accuracy: 0.9375\n",
      "Epoch 3/5\n",
      "163/163 [==============================] - 567s 3s/step - loss: 0.1093 - accuracy: 0.9588\n",
      "Epoch 4/5\n",
      "163/163 [==============================] - 563s 3s/step - loss: 0.0892 - accuracy: 0.9689\n",
      "Epoch 5/5\n",
      "163/163 [==============================] - 562s 3s/step - loss: 0.0596 - accuracy: 0.9774\n"
     ]
    }
   ],
   "source": [
    "history = model.fit(train_ig, epochs=5,batch_size= 163)\n",
    "model.save(\"model_weights.h5\")"
   ]
  },
  {
   "cell_type": "code",
   "execution_count": 20,
   "id": "8be4f24a",
   "metadata": {},
   "outputs": [],
   "source": [
    "weights = model.save(\"model_weights.h5\")"
   ]
  },
  {
   "cell_type": "code",
   "execution_count": 21,
   "id": "c3a5787b",
   "metadata": {},
   "outputs": [
    {
     "name": "stdout",
     "output_type": "stream",
     "text": [
      "\n"
     ]
    }
   ],
   "source": [
    "print()"
   ]
  },
  {
   "cell_type": "code",
   "execution_count": 22,
   "id": "4f1ed687",
   "metadata": {},
   "outputs": [
    {
     "data": {
      "image/png": "[encoded data removed]",
      "text/plain": [
       "<Figure size 864x360 with 1 Axes>"
      ]
     },
     "metadata": {
      "needs_background": "light"
     },
     "output_type": "display_data"
    }
   ],
   "source": [
    "plt.figure(figsize=(12, 5))\n",
    "plt.plot(history.history['accuracy'], label='Training Accuracy')\n",
    "plt.xlabel('Epochs')\n",
    "plt.ylabel('Accuracy')\n",
    "plt.title('Accuracy vs. Epochs')\n",
    "plt.legend()\n",
    "# Plot loss vs. epochs\n",
    "plt.plot(history.history['loss'], label='Training Loss')\n",
    "plt.xlabel('Epochs')\n",
    "plt.ylabel('Loss')\n",
    "plt.title('Loss vs. Epochs')\n",
    "plt.legend()\n",
    "plt.tight_layout()\n",
    "plt.show()"
   ]
  },
  {
   "cell_type": "code",
   "execution_count": null,
   "id": "0cbcd18e",
   "metadata": {},
   "outputs": [],
   "source": []
  }
 ],
 "metadata": {
  "kernelspec": {
   "display_name": "Python 3 (ipykernel)",
   "language": "python",
   "name": "python3"
  },
  "language_info": {
   "codemirror_mode": {
    "name": "ipython",
    "version": 3
   },
   "file_extension": ".py",
   "mimetype": "text/x-python",
   "name": "python",
   "nbconvert_exporter": "python",
   "pygments_lexer": "ipython3",
   "version": "3.9.7"
  }
 },
 "nbformat": 4,
 "nbformat_minor": 5
}
