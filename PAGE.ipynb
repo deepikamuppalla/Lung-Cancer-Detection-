{
 "cells": [
  {
   "cell_type": "code",
   "execution_count": 32,
   "id": "919b249c",
   "metadata": {},
   "outputs": [],
   "source": [
    "import tkinter"
   ]
  },
  {
   "cell_type": "code",
   "execution_count": 37,
   "id": "274a628e",
   "metadata": {},
   "outputs": [
    {
     "name": "stdout",
     "output_type": "stream",
     "text": [
      "1/1 [==============================] - 0s 101ms/step\n"
     ]
    }
   ],
   "source": [
    "import tkinter as tk\n",
    "from tkinter import filedialog\n",
    "from tkinter import messagebox\n",
    "from tkinter import Label, Button\n",
    "from tensorflow.keras.models import load_model\n",
    "from tensorflow.keras.preprocessing import image\n",
    "import numpy as np\n",
    "\n",
    "# Load your pre-trained Keras model\n",
    "model = load_model(\"C:/Users/THARUN/model_weights.h5\")\n",
    "\n",
    "# Create a dictionary to map class indices to class labels\n",
    "class_labels = {0: 'NORMAL', 1: 'LUNG CANCER'}  # Update with your class labels\n",
    "\n",
    "\n",
    "\n",
    "# Define a function to preprocess the image for the model\n",
    "def preprocess_image(image_path):\n",
    "    img = image.load_img(image_path, target_size=(256, 256))  # Assuming your model expects 224x224 images\n",
    "    img = image.img_to_array(img)\n",
    "    img = img / 255.0  # Normalize the pixel values to the range [0, 1]\n",
    "    img = img.reshape((1, 256, 256, 3))  # Reshape for the model\n",
    "    return img\n",
    "\n",
    "# Define a function to classify the image\n",
    "def classify_image():\n",
    "    file_path = filedialog.askopenfilename()  # Open a file dialog to select an image\n",
    "    if file_path:\n",
    "        img = preprocess_image(file_path)\n",
    "        prediction = model.predict(img)\n",
    "        class_index = np.argmax(prediction)\n",
    "        class_name = class_labels.get(class_index, 'Unknown')\n",
    "        result_label.config(text=f'Predicted Class: {class_name}')\n",
    "    else:\n",
    "        messagebox.showerror('Error', 'Please select an image.')\n",
    "\n",
    "# Create the GUI window\n",
    "root = tk.Tk()\n",
    "window_width = 900\n",
    "window_height = 900\n",
    "root.title(\"Image Classifier\")\n",
    "\n",
    "# Add a button to choose an image\n",
    "choose_button = Button(root, text=\"Choose Image\", command=classify_image)\n",
    "choose_button.pack()\n",
    "\n",
    "# Add a label to display the prediction result\n",
    "result_label = Label(root, text=\"\")\n",
    "result_label.pack()\n",
    "\n",
    "root.mainloop()"
   ]
  },
  {
   "cell_type": "code",
   "execution_count": null,
   "id": "250f57f8",
   "metadata": {},
   "outputs": [],
   "source": []
  }
 ],
 "metadata": {
  "kernelspec": {
   "display_name": "Python 3 (ipykernel)",
   "language": "python",
   "name": "python3"
  },
  "language_info": {
   "codemirror_mode": {
    "name": "ipython",
    "version": 3
   },
   "file_extension": ".py",
   "mimetype": "text/x-python",
   "name": "python",
   "nbconvert_exporter": "python",
   "pygments_lexer": "ipython3",
   "version": "3.9.7"
  }
 },
 "nbformat": 4,
 "nbformat_minor": 5
}
